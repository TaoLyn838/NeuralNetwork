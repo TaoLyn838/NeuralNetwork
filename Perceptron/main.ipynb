{
 "cells": [
  {
   "cell_type": "code",
   "execution_count": 8,
   "id": "initial_id",
   "metadata": {
    "collapsed": true,
    "ExecuteTime": {
     "end_time": "2023-12-16T07:52:45.802509800Z",
     "start_time": "2023-12-16T07:52:45.798506300Z"
    }
   },
   "outputs": [],
   "source": [
    "from simplePerceptron import SimplePerceptron"
   ]
  },
  {
   "cell_type": "code",
   "execution_count": 9,
   "outputs": [],
   "source": [
    "data = [1, 0, 1, 0, 1]\n",
    "\n",
    "perceptron = SimplePerceptron(data)"
   ],
   "metadata": {
    "collapsed": false,
    "ExecuteTime": {
     "end_time": "2023-12-16T07:52:46.922554400Z",
     "start_time": "2023-12-16T07:52:46.918550600Z"
    }
   },
   "id": "7db9051408a58220"
  },
  {
   "cell_type": "code",
   "execution_count": null,
   "outputs": [],
   "source": [],
   "metadata": {
    "collapsed": false
   },
   "id": "df67eda288fc7508"
  }
 ],
 "metadata": {
  "kernelspec": {
   "display_name": "Python 3",
   "language": "python",
   "name": "python3"
  },
  "language_info": {
   "codemirror_mode": {
    "name": "ipython",
    "version": 2
   },
   "file_extension": ".py",
   "mimetype": "text/x-python",
   "name": "python",
   "nbconvert_exporter": "python",
   "pygments_lexer": "ipython2",
   "version": "2.7.6"
  }
 },
 "nbformat": 4,
 "nbformat_minor": 5
}
